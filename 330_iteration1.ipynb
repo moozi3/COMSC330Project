{
 "cells": [
  {
   "cell_type": "code",
   "execution_count": 77,
   "id": "2ba5eae0",
   "metadata": {},
   "outputs": [
    {
     "name": "stdout",
     "output_type": "stream",
     "text": [
      "Requirement already satisfied: pandas in c:\\users\\will bailey\\anaconda3\\lib\\site-packages (1.4.2)\n",
      "Requirement already satisfied: pytz>=2020.1 in c:\\users\\will bailey\\anaconda3\\lib\\site-packages (from pandas) (2021.3)\n",
      "Requirement already satisfied: numpy>=1.18.5 in c:\\users\\will bailey\\anaconda3\\lib\\site-packages (from pandas) (1.21.5)\n",
      "Requirement already satisfied: python-dateutil>=2.8.1 in c:\\users\\will bailey\\anaconda3\\lib\\site-packages (from pandas) (2.8.2)\n",
      "Requirement already satisfied: six>=1.5 in c:\\users\\will bailey\\anaconda3\\lib\\site-packages (from python-dateutil>=2.8.1->pandas) (1.16.0)\n"
     ]
    }
   ],
   "source": [
    "!pip install pandas\n",
    "import pandas as pd\n"
   ]
  },
  {
   "cell_type": "code",
   "execution_count": 79,
   "id": "64c7b0ea",
   "metadata": {},
   "outputs": [],
   "source": [
    "df = pd.read_csv('C:/Users/Will Bailey/Desktop/RWUCOMSC/comsc330/support/COMSC110S20.sec', sep='|', header=None)\n",
    "df.drop(0)\n",
    "df.columns = ['Data']\n",
    "df = df.drop(0)\n",
    "\n",
    "\n"
   ]
  },
  {
   "cell_type": "code",
   "execution_count": 80,
   "id": "4d266d6d",
   "metadata": {},
   "outputs": [
    {
     "data": {
      "text/html": [
       "<div>\n",
       "<style scoped>\n",
       "    .dataframe tbody tr th:only-of-type {\n",
       "        vertical-align: middle;\n",
       "    }\n",
       "\n",
       "    .dataframe tbody tr th {\n",
       "        vertical-align: top;\n",
       "    }\n",
       "\n",
       "    .dataframe thead th {\n",
       "        text-align: right;\n",
       "    }\n",
       "</style>\n",
       "<table border=\"1\" class=\"dataframe\">\n",
       "  <thead>\n",
       "    <tr style=\"text-align: right;\">\n",
       "      <th></th>\n",
       "      <th>Data</th>\n",
       "      <th>Last Name</th>\n",
       "      <th>First Name</th>\n",
       "      <th>Student Id</th>\n",
       "      <th>Grade</th>\n",
       "    </tr>\n",
       "  </thead>\n",
       "  <tbody>\n",
       "    <tr>\n",
       "      <th>1</th>\n",
       "      <td>Pfssb, Hcfw,\"6713436\",\"C+\"</td>\n",
       "      <td>Pfssb</td>\n",
       "      <td>Hcfw</td>\n",
       "      <td>\"6713436\"</td>\n",
       "      <td>C+</td>\n",
       "    </tr>\n",
       "    <tr>\n",
       "      <th>2</th>\n",
       "      <td>Pfckb, Owrob,\"6758502\",\"C\"</td>\n",
       "      <td>Pfckb</td>\n",
       "      <td>Owrob</td>\n",
       "      <td>\"6758502\"</td>\n",
       "      <td>C</td>\n",
       "    </tr>\n",
       "    <tr>\n",
       "      <th>3</th>\n",
       "      <td>Qczs, Robwsz,\"6704310\",\"C\"</td>\n",
       "      <td>Qczs</td>\n",
       "      <td>Robwsz</td>\n",
       "      <td>\"6704310\"</td>\n",
       "      <td>C</td>\n",
       "    </tr>\n",
       "    <tr>\n",
       "      <th>4</th>\n",
       "      <td>Qfin, Xsggwqo,\"6724981\",\"C+\"</td>\n",
       "      <td>Qfin</td>\n",
       "      <td>Xsggwqo</td>\n",
       "      <td>\"6724981\"</td>\n",
       "      <td>C+</td>\n",
       "    </tr>\n",
       "    <tr>\n",
       "      <th>5</th>\n",
       "      <td>Rspzcwg, Qoggobrfo,\"6719465\",\"I\"</td>\n",
       "      <td>Rspzcwg</td>\n",
       "      <td>Qoggobrfo</td>\n",
       "      <td>\"6719465\"</td>\n",
       "      <td>I</td>\n",
       "    </tr>\n",
       "    <tr>\n",
       "      <th>6</th>\n",
       "      <td>Vwzz, Psbxoawb,\"6727795\",\"W\"</td>\n",
       "      <td>Vwzz</td>\n",
       "      <td>Psbxoawb</td>\n",
       "      <td>\"6727795\"</td>\n",
       "      <td>W</td>\n",
       "    </tr>\n",
       "  </tbody>\n",
       "</table>\n",
       "</div>"
      ],
      "text/plain": [
       "                               Data Last Name  First Name Student Id Grade\n",
       "1        Pfssb, Hcfw,\"6713436\",\"C+\"     Pfssb        Hcfw  \"6713436\"    C+\n",
       "2        Pfckb, Owrob,\"6758502\",\"C\"     Pfckb       Owrob  \"6758502\"     C\n",
       "3        Qczs, Robwsz,\"6704310\",\"C\"      Qczs      Robwsz  \"6704310\"     C\n",
       "4      Qfin, Xsggwqo,\"6724981\",\"C+\"      Qfin     Xsggwqo  \"6724981\"    C+\n",
       "5  Rspzcwg, Qoggobrfo,\"6719465\",\"I\"   Rspzcwg   Qoggobrfo  \"6719465\"     I\n",
       "6      Vwzz, Psbxoawb,\"6727795\",\"W\"      Vwzz    Psbxoawb  \"6727795\"     W"
      ]
     },
     "execution_count": 80,
     "metadata": {},
     "output_type": "execute_result"
    }
   ],
   "source": [
    "df[['Last Name', 'First Name', 'Student Id', 'Grade']] = df['Data'].str.split(',', expand=True)\n",
    "df['Grade'] = df['Grade'].str.strip('\"')\n",
    "df"
   ]
  },
  {
   "cell_type": "code",
   "execution_count": 81,
   "id": "3559114e",
   "metadata": {},
   "outputs": [
    {
     "data": {
      "text/html": [
       "<div>\n",
       "<style scoped>\n",
       "    .dataframe tbody tr th:only-of-type {\n",
       "        vertical-align: middle;\n",
       "    }\n",
       "\n",
       "    .dataframe tbody tr th {\n",
       "        vertical-align: top;\n",
       "    }\n",
       "\n",
       "    .dataframe thead th {\n",
       "        text-align: right;\n",
       "    }\n",
       "</style>\n",
       "<table border=\"1\" class=\"dataframe\">\n",
       "  <thead>\n",
       "    <tr style=\"text-align: right;\">\n",
       "      <th></th>\n",
       "      <th>Data</th>\n",
       "      <th>Last Name</th>\n",
       "      <th>First Name</th>\n",
       "      <th>Student Id</th>\n",
       "      <th>Grade</th>\n",
       "    </tr>\n",
       "  </thead>\n",
       "  <tbody>\n",
       "    <tr>\n",
       "      <th>1</th>\n",
       "      <td>Pfssb, Hcfw,\"6713436\",\"C+\"</td>\n",
       "      <td>Pfssb</td>\n",
       "      <td>Hcfw</td>\n",
       "      <td>\"6713436\"</td>\n",
       "      <td>C+</td>\n",
       "    </tr>\n",
       "    <tr>\n",
       "      <th>2</th>\n",
       "      <td>Pfckb, Owrob,\"6758502\",\"C\"</td>\n",
       "      <td>Pfckb</td>\n",
       "      <td>Owrob</td>\n",
       "      <td>\"6758502\"</td>\n",
       "      <td>C</td>\n",
       "    </tr>\n",
       "    <tr>\n",
       "      <th>3</th>\n",
       "      <td>Qczs, Robwsz,\"6704310\",\"C\"</td>\n",
       "      <td>Qczs</td>\n",
       "      <td>Robwsz</td>\n",
       "      <td>\"6704310\"</td>\n",
       "      <td>C</td>\n",
       "    </tr>\n",
       "    <tr>\n",
       "      <th>4</th>\n",
       "      <td>Qfin, Xsggwqo,\"6724981\",\"C+\"</td>\n",
       "      <td>Qfin</td>\n",
       "      <td>Xsggwqo</td>\n",
       "      <td>\"6724981\"</td>\n",
       "      <td>C+</td>\n",
       "    </tr>\n",
       "  </tbody>\n",
       "</table>\n",
       "</div>"
      ],
      "text/plain": [
       "                           Data Last Name First Name Student Id Grade\n",
       "1    Pfssb, Hcfw,\"6713436\",\"C+\"     Pfssb       Hcfw  \"6713436\"    C+\n",
       "2    Pfckb, Owrob,\"6758502\",\"C\"     Pfckb      Owrob  \"6758502\"     C\n",
       "3    Qczs, Robwsz,\"6704310\",\"C\"      Qczs     Robwsz  \"6704310\"     C\n",
       "4  Qfin, Xsggwqo,\"6724981\",\"C+\"      Qfin    Xsggwqo  \"6724981\"    C+"
      ]
     },
     "execution_count": 81,
     "metadata": {},
     "output_type": "execute_result"
    }
   ],
   "source": [
    "df = df[~df[\"Grade\"].str.contains(\"I|W\")]\n",
    "df\n"
   ]
  },
  {
   "cell_type": "code",
   "execution_count": 82,
   "id": "c4ce07d0",
   "metadata": {},
   "outputs": [
    {
     "name": "stderr",
     "output_type": "stream",
     "text": [
      "C:\\Users\\Will Bailey\\AppData\\Local\\Temp\\ipykernel_13768\\853084602.py:28: SettingWithCopyWarning: \n",
      "A value is trying to be set on a copy of a slice from a DataFrame.\n",
      "Try using .loc[row_indexer,col_indexer] = value instead\n",
      "\n",
      "See the caveats in the documentation: https://pandas.pydata.org/pandas-docs/stable/user_guide/indexing.html#returning-a-view-versus-a-copy\n",
      "  df['Numerical Grade'] = df['Grade'].apply(convert_grade)\n"
     ]
    }
   ],
   "source": [
    "def convert_grade(grade):\n",
    "    if grade == 'A':\n",
    "        return 4.0\n",
    "    elif grade == 'A-':\n",
    "        return 3.7\n",
    "    elif grade == 'B+':\n",
    "        return 3.3\n",
    "    elif grade == 'B':\n",
    "        return 3.0\n",
    "    elif grade == 'B-':\n",
    "        return 2.7\n",
    "    elif grade == 'C+':\n",
    "        return 2.3\n",
    "    elif grade == 'C':\n",
    "        return 2.0\n",
    "    elif grade == 'C-':\n",
    "        return 1.7\n",
    "    elif grade == 'D+':\n",
    "        return 1.3\n",
    "    elif grade == 'D':\n",
    "        return 1.0\n",
    "    elif grade == 'D-':\n",
    "        return 0.7\n",
    "    elif grade == 'F':\n",
    "        return 0.0\n",
    "    else:\n",
    "        return 0.0\n",
    "df['Numerical Grade'] = df['Grade'].apply(convert_grade)\n",
    "avg_numerical_grade = df['Numerical Grade'].mean()\n"
   ]
  },
  {
   "cell_type": "code",
   "execution_count": 83,
   "id": "6a703a5e",
   "metadata": {},
   "outputs": [
    {
     "name": "stdout",
     "output_type": "stream",
     "text": [
      "2.15\n"
     ]
    }
   ],
   "source": [
    "print(avg_numerical_grade) "
   ]
  },
  {
   "cell_type": "code",
   "execution_count": 41,
   "id": "c3abf400",
   "metadata": {},
   "outputs": [
    {
     "name": "stdout",
     "output_type": "stream",
     "text": [
      "['COMSC110.GRP', 'COMSC200.GRP']\n"
     ]
    }
   ],
   "source": [
    "with open(\"TESTRUN.RUN\", \"r\") as f:\n",
    "    groups = f.readlines()\n",
    "\n",
    "for i in range(len(groups)):\n",
    "    groups[i] = groups[i].strip()\n",
    "groups.pop(0)   \n",
    "print(groups)"
   ]
  },
  {
   "cell_type": "code",
   "execution_count": 94,
   "id": "aa60094a",
   "metadata": {},
   "outputs": [
    {
     "name": "stdout",
     "output_type": "stream",
     "text": [
      "['COMSC110S20.SEC', 'COMSC110S21.SEC']\n"
     ]
    }
   ],
   "source": [
    "with open(groups[0], \"r\") as f:\n",
    "    sections = f.readlines()\n",
    "for i in range(len(sections)):\n",
    "    sections[i] = sections[i].strip()\n",
    "sections.pop(0)\n",
    "print(sections)"
   ]
  },
  {
   "cell_type": "code",
   "execution_count": 99,
   "id": "335c2e15",
   "metadata": {},
   "outputs": [
    {
     "data": {
      "text/html": [
       "<div>\n",
       "<style scoped>\n",
       "    .dataframe tbody tr th:only-of-type {\n",
       "        vertical-align: middle;\n",
       "    }\n",
       "\n",
       "    .dataframe tbody tr th {\n",
       "        vertical-align: top;\n",
       "    }\n",
       "\n",
       "    .dataframe thead th {\n",
       "        text-align: right;\n",
       "    }\n",
       "</style>\n",
       "<table border=\"1\" class=\"dataframe\">\n",
       "  <thead>\n",
       "    <tr style=\"text-align: right;\">\n",
       "      <th></th>\n",
       "      <th>Data</th>\n",
       "    </tr>\n",
       "  </thead>\n",
       "  <tbody>\n",
       "    <tr>\n",
       "      <th>0</th>\n",
       "      <td>COMSC110S20  3.0</td>\n",
       "    </tr>\n",
       "    <tr>\n",
       "      <th>1</th>\n",
       "      <td>\"Pfssb, Hcfw\",\"6713436\",\"C+\"</td>\n",
       "    </tr>\n",
       "    <tr>\n",
       "      <th>2</th>\n",
       "      <td>\"Pfckb, Owrob\",\"6758502\",\"C\"</td>\n",
       "    </tr>\n",
       "    <tr>\n",
       "      <th>3</th>\n",
       "      <td>\"Qczs, Robwsz\",\"6704310\",\"C\"</td>\n",
       "    </tr>\n",
       "    <tr>\n",
       "      <th>4</th>\n",
       "      <td>\"Qfin, Xsggwqo\",\"6724981\",\"C+\"</td>\n",
       "    </tr>\n",
       "    <tr>\n",
       "      <th>5</th>\n",
       "      <td>\"Rspzcwg, Qoggobrfo\",\"6719465\",\"I\"</td>\n",
       "    </tr>\n",
       "    <tr>\n",
       "      <th>6</th>\n",
       "      <td>\"Vwzz, Psbxoawb\",\"6727795\",\"W\"</td>\n",
       "    </tr>\n",
       "  </tbody>\n",
       "</table>\n",
       "</div>"
      ],
      "text/plain": [
       "                                 Data\n",
       "0                    COMSC110S20  3.0\n",
       "1        \"Pfssb, Hcfw\",\"6713436\",\"C+\"\n",
       "2        \"Pfckb, Owrob\",\"6758502\",\"C\"\n",
       "3        \"Qczs, Robwsz\",\"6704310\",\"C\"\n",
       "4      \"Qfin, Xsggwqo\",\"6724981\",\"C+\"\n",
       "5  \"Rspzcwg, Qoggobrfo\",\"6719465\",\"I\"\n",
       "6      \"Vwzz, Psbxoawb\",\"6727795\",\"W\""
      ]
     },
     "execution_count": 99,
     "metadata": {},
     "output_type": "execute_result"
    }
   ],
   "source": [
    "with open(sections[0], \"r\") as f:\n",
    "    lines = f.readlines()\n",
    "for i in range(len(lines)):\n",
    "    lines[i] = lines[i].strip()\n",
    "\n",
    "df = pd.DataFrame(lines, columns=['Data'])\n",
    "df"
   ]
  },
  {
   "cell_type": "code",
   "execution_count": 96,
   "id": "06be1dff",
   "metadata": {},
   "outputs": [],
   "source": [
    "def getSECGPA(df):   \n",
    "    df = df.drop(0)\n",
    "    df[['Last Name', 'First Name', 'Student Id', 'Grade']] = df['Data'].str.split(',', expand=True)\n",
    "    df['Grade'] = df['Grade'].str.strip('\"')\n",
    "    df = df[~df[\"Grade\"].str.contains(\"I|W\")]\n",
    "    df['Numerical Grade'] = df['Grade'].apply(convert_grade)\n",
    "    avg_numerical_grade = df['Numerical Grade'].mean()\n",
    "    return avg_numerical_grade"
   ]
  },
  {
   "cell_type": "code",
   "execution_count": 100,
   "id": "360e2952",
   "metadata": {},
   "outputs": [
    {
     "name": "stdout",
     "output_type": "stream",
     "text": [
      "2.15\n",
      "2.0\n"
     ]
    }
   ],
   "source": [
    "for i in range(len(sections)):\n",
    "    with open(sections[i], \"r\") as f:\n",
    "        lines = f.readlines()\n",
    "    for x in range(len(lines)):\n",
    "        lines[x] = lines[x].strip()\n",
    "    \n",
    "    df = pd.DataFrame(lines, columns=['Data'])\n",
    "    gpas = (getSECGPA(df))      \n",
    "    print(gpas)\n"
   ]
  },
  {
   "cell_type": "code",
   "execution_count": null,
   "id": "e122a02c",
   "metadata": {},
   "outputs": [],
   "source": [
    "def getSECGPA(df):   \n",
    "    df = df.drop(0)\n",
    "    df[['Last Name', 'First Name', 'Student Id', 'Grade']] = df['Data'].str.split(',', expand=True)\n",
    "    df['Grade'] = df['Grade'].str.strip('\"')\n",
    "    df = df[~df[\"Grade\"].str.contains(\"I|W\")]\n",
    "    df['Numerical Grade'] = df['Grade'].apply(convert_grade)\n",
    "    avg_numerical_grade = df['Numerical Grade'].mean()\n",
    "    return avg_numerical_grade"
   ]
  },
  {
   "cell_type": "code",
   "execution_count": 157,
   "id": "8fef6a2d",
   "metadata": {},
   "outputs": [],
   "source": [
    "#def getGRPGPA(run_Name):\n",
    "gpa_list =[]\n",
    "with open(\"TESTRUN.RUN\", \"r\") as f:\n",
    "    groups = f.readlines()\n",
    "    groups.pop(0)\n",
    "\n",
    "for i in range(len(groups)):\n",
    "    groups[i] = groups[i].strip()\n",
    "    with open(groups[i], \"r\") as f:\n",
    "        sections = f.readlines()\n",
    "    sections.pop(0)\n",
    "               \n",
    "    for y in range(len(sections)):\n",
    "        sections[y] = sections[y].strip()\n",
    "        with open(sections[y], \"r\") as f:\n",
    "            lines = f.readlines() \n",
    "        lines.pop(0)      \n",
    "        for j in range(len(lines)):\n",
    "            lines[j] = lines[j].strip()\n",
    "        df = pd.DataFrame(lines, columns=['Data'])\n",
    "        gpa = (getSECGPA(df))\n",
    "        gpa_list.append(gpa)\n"
   ]
  },
  {
   "cell_type": "code",
   "execution_count": 158,
   "id": "75f429cb",
   "metadata": {},
   "outputs": [
    {
     "data": {
      "text/plain": [
       "3.3333333333333335"
      ]
     },
     "execution_count": 158,
     "metadata": {},
     "output_type": "execute_result"
    }
   ],
   "source": [
    "gpa_list[4]\n",
    "    "
   ]
  },
  {
   "cell_type": "code",
   "execution_count": 146,
   "id": "85122b0e",
   "metadata": {},
   "outputs": [],
   "source": [
    "group_files = {}\n",
    "#Create the dictionary \n",
    "def create_dict(run_name):  \n",
    "    with open(run_name, \"r\") as f:\n",
    "        groups = f.readlines()\n",
    "    groups.pop(0)  \n",
    "\n",
    "    #Add the GRP files from RUN file\n",
    "    for i in range(len(groups)):\n",
    "        groups[i] = groups[i].strip()\n",
    "        group_files[groups[i]] = {}\n",
    "create_dict(\"TESTRUN.RUN\")"
   ]
  },
  {
   "cell_type": "code",
   "execution_count": 149,
   "id": "4ba7b35d",
   "metadata": {},
   "outputs": [],
   "source": [
    "#Get the number of courses \n",
    "for i in range (len(group_files)):\n",
    "    with open(groups[i], \"r\") as f:\n",
    "        sections = f.readlines()\n",
    "    sections.pop(0)"
   ]
  },
  {
   "cell_type": "code",
   "execution_count": 156,
   "id": "9c6a334b",
   "metadata": {},
   "outputs": [
    {
     "data": {
      "text/plain": [
       "'COMSC110.GRP'"
      ]
     },
     "execution_count": 156,
     "metadata": {},
     "output_type": "execute_result"
    }
   ],
   "source": [
    "name = next(iter(group_files.keys()))\n",
    "name"
   ]
  },
  {
   "cell_type": "code",
   "execution_count": null,
   "id": "c21b46e2",
   "metadata": {},
   "outputs": [],
   "source": []
  },
  {
   "cell_type": "code",
   "execution_count": null,
   "id": "42bfb09f",
   "metadata": {},
   "outputs": [],
   "source": []
  },
  {
   "cell_type": "code",
   "execution_count": 135,
   "id": "2735a908",
   "metadata": {},
   "outputs": [
    {
     "ename": "TypeError",
     "evalue": "'dict' object is not callable",
     "output_type": "error",
     "traceback": [
      "\u001b[1;31m---------------------------------------------------------------------------\u001b[0m",
      "\u001b[1;31mTypeError\u001b[0m                                 Traceback (most recent call last)",
      "Input \u001b[1;32mIn [135]\u001b[0m, in \u001b[0;36m<cell line: 4>\u001b[1;34m()\u001b[0m\n\u001b[0;32m      1\u001b[0m group_file \u001b[38;5;241m=\u001b[39m {\u001b[38;5;124m\"\u001b[39m\u001b[38;5;124mname\u001b[39m\u001b[38;5;124m\"\u001b[39m: \u001b[38;5;124m\"\u001b[39m\u001b[38;5;124mGRP1\u001b[39m\u001b[38;5;124m\"\u001b[39m, \u001b[38;5;124m\"\u001b[39m\u001b[38;5;124mNumber of Courses\u001b[39m\u001b[38;5;124m\"\u001b[39m: \u001b[38;5;241m0\u001b[39m, \u001b[38;5;124m\"\u001b[39m\u001b[38;5;124mNumber of Students\u001b[39m\u001b[38;5;124m\"\u001b[39m: \u001b[38;5;241m5\u001b[39m, \u001b[38;5;124m\"\u001b[39m\u001b[38;5;124mNumber of Each Grade\u001b[39m\u001b[38;5;124m\"\u001b[39m: \u001b[38;5;241m0\u001b[39m,\n\u001b[0;32m      2\u001b[0m               \u001b[38;5;124m\"\u001b[39m\u001b[38;5;124mOverall GPA\u001b[39m\u001b[38;5;124m\"\u001b[39m: \u001b[38;5;241m0\u001b[39m}\n\u001b[0;32m      3\u001b[0m \u001b[38;5;66;03m#section_file = {\"name\": \"John Doe\", \"age\": 35, \"gender\": \"Male\", \"address\": \"123 Main Street, Anytown USA\"}\u001b[39;00m\n\u001b[1;32m----> 4\u001b[0m \u001b[43mgroup_file\u001b[49m\u001b[43m(\u001b[49m\u001b[38;5;241;43m0\u001b[39;49m\u001b[43m)\u001b[49m\n",
      "\u001b[1;31mTypeError\u001b[0m: 'dict' object is not callable"
     ]
    }
   ],
   "source": [
    "group_file = {\"name\": \"GRP1\", \"Number of Courses\": 0, \"Number of Students\": 5, \"Number of Each Grade\": 0,\n",
    "              \"Overall GPA\": 0}\n",
    "#section_file = {\"name\": \"John Doe\", \"age\": 35, \"gender\": \"Male\", \"address\": \"123 Main Street, Anytown USA\"}\n",
    "group_file(0)"
   ]
  },
  {
   "cell_type": "code",
   "execution_count": null,
   "id": "3969db0d",
   "metadata": {},
   "outputs": [],
   "source": []
  }
 ],
 "metadata": {
  "kernelspec": {
   "display_name": "Python 3 (ipykernel)",
   "language": "python",
   "name": "python3"
  },
  "language_info": {
   "codemirror_mode": {
    "name": "ipython",
    "version": 3
   },
   "file_extension": ".py",
   "mimetype": "text/x-python",
   "name": "python",
   "nbconvert_exporter": "python",
   "pygments_lexer": "ipython3",
   "version": "3.9.12"
  }
 },
 "nbformat": 4,
 "nbformat_minor": 5
}
