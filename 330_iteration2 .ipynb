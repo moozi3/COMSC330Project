{
 "cells": [
  {
   "cell_type": "code",
   "execution_count": 1,
   "id": "c3658f54",
   "metadata": {},
   "outputs": [
    {
     "name": "stdout",
     "output_type": "stream",
     "text": [
      "Requirement already satisfied: pandas in c:\\users\\will bailey\\anaconda3\\lib\\site-packages (1.4.2)\n",
      "Requirement already satisfied: python-dateutil>=2.8.1 in c:\\users\\will bailey\\anaconda3\\lib\\site-packages (from pandas) (2.8.2)\n",
      "Requirement already satisfied: pytz>=2020.1 in c:\\users\\will bailey\\anaconda3\\lib\\site-packages (from pandas) (2021.3)\n",
      "Requirement already satisfied: numpy>=1.18.5 in c:\\users\\will bailey\\anaconda3\\lib\\site-packages (from pandas) (1.21.5)\n",
      "Requirement already satisfied: six>=1.5 in c:\\users\\will bailey\\anaconda3\\lib\\site-packages (from python-dateutil>=2.8.1->pandas) (1.16.0)\n"
     ]
    }
   ],
   "source": [
    "!pip install pandas\n",
    "import pandas as pd"
   ]
  },
  {
   "cell_type": "code",
   "execution_count": 78,
   "id": "84fb3bdc",
   "metadata": {},
   "outputs": [],
   "source": [
    "def getSECGPA(df):   \n",
    "    df = df.drop(0)\n",
    "    df[['Last Name', 'First Name', 'Student Id', 'Grade']] = df['Data'].str.split(',', expand=True)\n",
    "    df['Grade'] = df['Grade'].str.strip('\"')\n",
    "    df = df[~df[\"Grade\"].str.contains(\"I|W\")]\n",
    "    df['Numerical Grade'] = df['Grade'].apply(convert_grade)\n",
    "    avg_numerical_grade = df['Numerical Grade'].mean()\n",
    "    return avg_numerical_grade"
   ]
  },
  {
   "cell_type": "code",
   "execution_count": 81,
   "id": "9067cce5",
   "metadata": {},
   "outputs": [],
   "source": [
    "def convert_grade(grade):\n",
    "    if grade == 'A':\n",
    "        return 4.0\n",
    "    elif grade == 'A-':\n",
    "        return 3.7\n",
    "    elif grade == 'B+':\n",
    "        return 3.3\n",
    "    elif grade == 'B':\n",
    "        return 3.0\n",
    "    elif grade == 'B-':\n",
    "        return 2.7\n",
    "    elif grade == 'C+':\n",
    "        return 2.3\n",
    "    elif grade == 'C':\n",
    "        return 2.0\n",
    "    elif grade == 'C-':\n",
    "        return 1.7\n",
    "    elif grade == 'D+':\n",
    "        return 1.3\n",
    "    elif grade == 'D':\n",
    "        return 1.0\n",
    "    elif grade == 'D-':\n",
    "        return 0.7\n",
    "    elif grade == 'F':\n",
    "        return 0.0\n",
    "    else:\n",
    "        return 0.0\n"
   ]
  },
  {
   "cell_type": "code",
   "execution_count": 5,
   "id": "6dcbf561",
   "metadata": {},
   "outputs": [],
   "source": [
    "group_files = {}\n",
    "#Create the dictionary \n",
    "def create_dict(run_name):  \n",
    "    with open(run_name, \"r\") as f:\n",
    "        groups = f.readlines()\n",
    "    groups.pop(0)  \n",
    "\n",
    "    #Add the GRP files from RUN file\n",
    "    for i in range(len(groups)):\n",
    "        groups[i] = groups[i].strip()\n",
    "        group_files[groups[i]] = {}\n",
    "create_dict(\"TESTRUN.RUN\")\n",
    "keys = list(group_files.keys())\n"
   ]
  },
  {
   "cell_type": "code",
   "execution_count": 37,
   "id": "2d208a50",
   "metadata": {},
   "outputs": [
    {
     "name": "stdout",
     "output_type": "stream",
     "text": [
      "1\n"
     ]
    }
   ],
   "source": [
    "#Get the number of courses\n",
    "\n",
    "def num_courses(keys):\n",
    "\n",
    "    with open(keys, \"r\") as f:\n",
    "        sections = f.readlines()\n",
    "    sections.pop(0)\n",
    "    for y in range(len(sections)):\n",
    "        sections[y] = sections[y].strip()\n",
    "        sections[y] = sections[y][:-7]\n",
    "\n",
    "    count = len(set(sections))\n",
    "    return count\n",
    "print(num_courses(keys[0]))\n",
    "\n"
   ]
  },
  {
   "cell_type": "code",
   "execution_count": 72,
   "id": "1cfd64d7",
   "metadata": {},
   "outputs": [
    {
     "name": "stdout",
     "output_type": "stream",
     "text": [
      "12\n"
     ]
    }
   ],
   "source": [
    "#Get the number of students \n",
    "count = 0\n",
    "def num_students(keys): \n",
    "        count = 0\n",
    "        with open(keys, \"r\") as f:\n",
    "            sections = f.readlines()\n",
    "        sections.pop(0)\n",
    "        for i in range(len(sections)):\n",
    "            sections[i] = sections[i].strip()\n",
    "\n",
    "        for x in range(len(sections)):\n",
    "            with open(sections[x], \"r\") as f:\n",
    "                lines = f.readlines()\n",
    "            lines.pop(0)\n",
    "            length = len(lines)  \n",
    "            count = length + count\n",
    "        return count \n",
    "\n",
    "print(num_students(keys[0]))\n"
   ]
  },
  {
   "cell_type": "code",
   "execution_count": 89,
   "id": "a0bec228",
   "metadata": {},
   "outputs": [
    {
     "name": "stdout",
     "output_type": "stream",
     "text": [
      "1.85\n"
     ]
    }
   ],
   "source": [
    "gpa_list =[]\n",
    "\n",
    "def get_GRP_GPA(keys):\n",
    "    with open(keys, \"r\") as f:\n",
    "        sections = f.readlines()\n",
    "    sections.pop(0)\n",
    "\n",
    "    for y in range(len(sections)):\n",
    "        sections[y] = sections[y].strip()\n",
    "        with open(sections[y], \"r\") as f:\n",
    "            lines = f.readlines() \n",
    "        lines.pop(0)      \n",
    "        for j in range(len(lines)):\n",
    "            lines[j] = lines[j].strip()\n",
    "        df = pd.DataFrame(lines, columns=['Data'])\n",
    "        gpa = (getSECGPA(df))\n",
    "        gpa_list.append(gpa)\n",
    "        average = sum(gpa_list) / len(gpa_list)\n",
    "    return average\n",
    "print(get_GRP_GPA(keys[0]))"
   ]
  },
  {
   "cell_type": "code",
   "execution_count": 90,
   "id": "00575d25",
   "metadata": {},
   "outputs": [],
   "source": [
    "group_files[keys[0]][\"Number of Courses\"] = (num_courses(keys[0]))\n",
    "group_files[keys[0]][\"Number of Students\"] = (num_students(keys[0]))\n",
    "group_files[keys[0]][\"Average GPA\"] = (get_GRP_GPA(keys[0]))\n",
    "\n",
    "\n",
    "group_files[keys[1]][\"Number of Courses\"] = (num_courses(keys[1]))\n",
    "group_files[keys[1]][\"Number of Students\"] = (num_students(keys[1]))\n",
    "group_files[keys[1]][\"Average GPA\"] = (get_GRP_GPA(keys[1]))"
   ]
  },
  {
   "cell_type": "code",
   "execution_count": 91,
   "id": "28bcf882",
   "metadata": {},
   "outputs": [
    {
     "data": {
      "text/plain": [
       "{'COMSC110.GRP': {'Number of Courses': 1,\n",
       "  'Number of Students': 12,\n",
       "  'Average GPA': 1.85},\n",
       " 'COMSC200.GRP': {'Number of Courses': 3,\n",
       "  'Number of Students': 19,\n",
       "  'Average GPA': 2.2304761904761907}}"
      ]
     },
     "execution_count": 91,
     "metadata": {},
     "output_type": "execute_result"
    }
   ],
   "source": [
    "group_files"
   ]
  },
  {
   "cell_type": "code",
   "execution_count": null,
   "id": "5345cc3a",
   "metadata": {},
   "outputs": [],
   "source": []
  },
  {
   "cell_type": "code",
   "execution_count": null,
   "id": "55f5b2c5",
   "metadata": {},
   "outputs": [],
   "source": []
  },
  {
   "cell_type": "code",
   "execution_count": null,
   "id": "47052dc0",
   "metadata": {},
   "outputs": [],
   "source": []
  },
  {
   "cell_type": "code",
   "execution_count": null,
   "id": "4eb54eb1",
   "metadata": {},
   "outputs": [],
   "source": []
  },
  {
   "cell_type": "code",
   "execution_count": null,
   "id": "50eaa8e9",
   "metadata": {},
   "outputs": [],
   "source": []
  },
  {
   "cell_type": "code",
   "execution_count": null,
   "id": "ffffb13b",
   "metadata": {},
   "outputs": [],
   "source": []
  }
 ],
 "metadata": {
  "kernelspec": {
   "display_name": "Python 3 (ipykernel)",
   "language": "python",
   "name": "python3"
  },
  "language_info": {
   "codemirror_mode": {
    "name": "ipython",
    "version": 3
   },
   "file_extension": ".py",
   "mimetype": "text/x-python",
   "name": "python",
   "nbconvert_exporter": "python",
   "pygments_lexer": "ipython3",
   "version": "3.9.12"
  }
 },
 "nbformat": 4,
 "nbformat_minor": 5
}
