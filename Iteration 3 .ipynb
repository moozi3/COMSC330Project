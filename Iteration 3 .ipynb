{
 "cells": [
  {
   "cell_type": "code",
   "execution_count": 43,
   "id": "92c12b8e",
   "metadata": {},
   "outputs": [
    {
     "name": "stdout",
     "output_type": "stream",
     "text": [
      "Requirement already satisfied: pandas in c:\\users\\will bailey\\anaconda3\\lib\\site-packages (1.4.2)\n",
      "Requirement already satisfied: pytz>=2020.1 in c:\\users\\will bailey\\anaconda3\\lib\\site-packages (from pandas) (2021.3)\n",
      "Requirement already satisfied: numpy>=1.18.5 in c:\\users\\will bailey\\anaconda3\\lib\\site-packages (from pandas) (1.21.5)\n",
      "Requirement already satisfied: python-dateutil>=2.8.1 in c:\\users\\will bailey\\anaconda3\\lib\\site-packages (from pandas) (2.8.2)\n",
      "Requirement already satisfied: six>=1.5 in c:\\users\\will bailey\\anaconda3\\lib\\site-packages (from python-dateutil>=2.8.1->pandas) (1.16.0)\n"
     ]
    }
   ],
   "source": [
    "!pip install pandas\n",
    "import pandas as pd\n",
    "import statistics"
   ]
  },
  {
   "cell_type": "markdown",
   "id": "3c95106d",
   "metadata": {},
   "source": [
    "# Data Visualization "
   ]
  },
  {
   "cell_type": "code",
   "execution_count": 44,
   "id": "6705229a",
   "metadata": {},
   "outputs": [
    {
     "data": {
      "text/html": [
       "<div>\n",
       "<style scoped>\n",
       "    .dataframe tbody tr th:only-of-type {\n",
       "        vertical-align: middle;\n",
       "    }\n",
       "\n",
       "    .dataframe tbody tr th {\n",
       "        vertical-align: top;\n",
       "    }\n",
       "\n",
       "    .dataframe thead th {\n",
       "        text-align: right;\n",
       "    }\n",
       "</style>\n",
       "<table border=\"1\" class=\"dataframe\">\n",
       "  <thead>\n",
       "    <tr style=\"text-align: right;\">\n",
       "      <th></th>\n",
       "      <th>Last Name</th>\n",
       "      <th>First Name</th>\n",
       "      <th>Student Id</th>\n",
       "      <th>Grade</th>\n",
       "      <th>GPA</th>\n",
       "    </tr>\n",
       "  </thead>\n",
       "  <tbody>\n",
       "    <tr>\n",
       "      <th>1</th>\n",
       "      <td>Pfssb</td>\n",
       "      <td>Hcfw</td>\n",
       "      <td>\"6713436\"</td>\n",
       "      <td>C+</td>\n",
       "      <td>2.3</td>\n",
       "    </tr>\n",
       "    <tr>\n",
       "      <th>2</th>\n",
       "      <td>Pfckb</td>\n",
       "      <td>Owrob</td>\n",
       "      <td>\"6758502\"</td>\n",
       "      <td>C</td>\n",
       "      <td>2.0</td>\n",
       "    </tr>\n",
       "    <tr>\n",
       "      <th>3</th>\n",
       "      <td>Qczs</td>\n",
       "      <td>Robwsz</td>\n",
       "      <td>\"6704310\"</td>\n",
       "      <td>C</td>\n",
       "      <td>2.0</td>\n",
       "    </tr>\n",
       "    <tr>\n",
       "      <th>4</th>\n",
       "      <td>Qfin</td>\n",
       "      <td>Xsggwqo</td>\n",
       "      <td>\"6724981\"</td>\n",
       "      <td>C+</td>\n",
       "      <td>2.3</td>\n",
       "    </tr>\n",
       "  </tbody>\n",
       "</table>\n",
       "</div>"
      ],
      "text/plain": [
       "  Last Name First Name Student Id Grade  GPA\n",
       "1     Pfssb       Hcfw  \"6713436\"    C+  2.3\n",
       "2     Pfckb      Owrob  \"6758502\"     C  2.0\n",
       "3      Qczs     Robwsz  \"6704310\"     C  2.0\n",
       "4      Qfin    Xsggwqo  \"6724981\"    C+  2.3"
      ]
     },
     "execution_count": 44,
     "metadata": {},
     "output_type": "execute_result"
    }
   ],
   "source": [
    "df = pd.read_csv('C:/Users/Will Bailey/Desktop/RWUCOMSC/comsc330/support/COMSC110S20.sec', sep='|', header=None)\n",
    "df.drop(0)\n",
    "df.columns = ['Data']\n",
    "df = df.drop(0)\n",
    "df[['Last Name', 'First Name', 'Student Id', 'Grade']] = df['Data'].str.split(',', expand=True)\n",
    "df['Grade'] = df['Grade'].str.strip('\"')\n",
    "df = df.drop('Data', axis=1)\n",
    "df['GPA'] = df['Grade'].apply(convert_grade)\n",
    "df = df[~df[\"Grade\"].str.contains(\"I|W|P|NP\")]\n",
    "\n",
    "df"
   ]
  },
  {
   "cell_type": "markdown",
   "id": "a3b614b6",
   "metadata": {},
   "source": [
    "#  Create Dictionary"
   ]
  },
  {
   "cell_type": "code",
   "execution_count": 45,
   "id": "32eefeaa",
   "metadata": {},
   "outputs": [],
   "source": [
    "def getSECGPA(df):   \n",
    "    df = df.drop(0)\n",
    "    df[['Last Name', 'First Name', 'Student Id', 'Grade']] = df['Data'].str.split(',', expand=True)\n",
    "    df['Grade'] = df['Grade'].str.strip('\"')\n",
    "    df = df[~df[\"Grade\"].str.contains(\"I|W\")]\n",
    "    df['Numerical Grade'] = df['Grade'].apply(convert_grade)\n",
    "    avg_numerical_grade = df['Numerical Grade'].mean()\n",
    "    return avg_numerical_grade\n",
    "\n",
    "def convert_grade(grade):\n",
    "    if grade == 'A':\n",
    "        return 4.0\n",
    "    elif grade == 'A-':\n",
    "        return 3.7\n",
    "    elif grade == 'B+':\n",
    "        return 3.3\n",
    "    elif grade == 'B':\n",
    "        return 3.0\n",
    "    elif grade == 'B-':\n",
    "        return 2.7\n",
    "    elif grade == 'C+':\n",
    "        return 2.3\n",
    "    elif grade == 'C':\n",
    "        return 2.0\n",
    "    elif grade == 'C-':\n",
    "        return 1.7\n",
    "    elif grade == 'D+':\n",
    "        return 1.3\n",
    "    elif grade == 'D':\n",
    "        return 1.0\n",
    "    elif grade == 'D-':\n",
    "        return 0.7\n",
    "    elif grade == 'F':\n",
    "        return 0.0\n",
    "    else:\n",
    "        return 0.0\n",
    "    \n",
    "\n",
    "def num_students(keys): \n",
    "        count = 0\n",
    "        with open(keys, \"r\") as f:\n",
    "            sections = f.readlines()\n",
    "        sections.pop(0)\n",
    "        for i in range(len(sections)):\n",
    "            sections[i] = sections[i].strip()\n",
    "\n",
    "        for x in range(len(sections)):\n",
    "            with open(sections[x], \"r\") as f:\n",
    "                lines = f.readlines()\n",
    "            lines.pop(0)\n",
    "            length = len(lines)  \n",
    "            count = length + count\n",
    "        return count \n",
    "def num_courses(keys):\n",
    "\n",
    "    with open(keys, \"r\") as f:\n",
    "        sections = f.readlines()\n",
    "    sections.pop(0)\n",
    "    for y in range(len(sections)):\n",
    "        sections[y] = sections[y].strip()\n",
    "        sections[y] = sections[y][:-7]\n",
    "\n",
    "    count = len(set(sections))\n",
    "    return count\n",
    "def num_grades(keys):\n",
    "    line = []\n",
    "    linef = []\n",
    "    with open(keys, \"r\") as f:\n",
    "        sections = f.readlines()\n",
    "    sections.pop(0)\n",
    "\n",
    "    for x in range(len(sections)):\n",
    "        sections[x] = sections[x].strip()\n",
    "        with open(sections[x], \"r\") as f:\n",
    "            lines = f.readlines()\n",
    "            lines.pop(0)\n",
    "            linef.extend(lines)\n",
    "    for x in range (len(linef)):\n",
    "        linef[x] = linef[x].strip()\n",
    "\n",
    "\n",
    "    df = pd.DataFrame(linef)\n",
    "    df.drop(0)\n",
    "    df.columns = ['Data']\n",
    "    df = df.drop(0)\n",
    "    df[['Last Name', 'First Name', 'Student Id', 'Grade']] = df['Data'].str.split(',', expand=True)\n",
    "    df['Grade'] = df['Grade'].str.strip('\"')\n",
    "    df = df.drop('Data', axis=1)\n",
    "    df['GPA'] = df['Grade'].apply(convert_grade)\n",
    "    df = df[~df[\"Grade\"].str.contains(\"I|W|P|NP\")]\n",
    "    grades = df['Grade'].tolist()\n",
    "    grades\n",
    "    order = ['A','A-','B+', 'B','B-', 'C','C-', 'D', 'F']\n",
    "    counts = [grades.count(grade) for grade in order]\n",
    "    output_list = [f\"{grade}: {count}\" for grade, count in zip(order, counts) if count > 0]\n",
    "    output_string = \", \".join(output_list)\n",
    "    return output_string"
   ]
  },
  {
   "cell_type": "code",
   "execution_count": 46,
   "id": "3bb42652",
   "metadata": {},
   "outputs": [],
   "source": [
    "def create_dict(path):  \n",
    "    group_files = {}\n",
    "    with open(path, \"r\") as f:\n",
    "        groups = f.readlines()\n",
    "    groups.pop(0)  \n",
    "\n",
    "    #Add the GRP files from RUN file\n",
    "    for i in range(len(groups)):\n",
    "        groups[i] = groups[i].strip()\n",
    "        group_files[groups[i]] = {}\n",
    "    keys = list(group_files.keys())\n",
    "    for x in range (len(keys)):\n",
    "        group_files[keys[x]][\"Number of Courses\"] = (num_courses(keys[x]))\n",
    "        group_files[keys[x]][\"Number of Students\"] = (num_students(keys[x]))\n",
    "        group_files[keys[x]][\"Average GPA\"] = (get_GRP_GPA(keys[x]))\n",
    "        group_files[keys[x]][\"Number of Grades\"] = (num_grades(keys[x]))\n",
    "    keys = list(group_files.keys())\n",
    "    values = group_files[keys[0]]\n",
    "    for key, value in values.items():\n",
    "        print(key + ': ' + str(value))\n",
    "    return group_files"
   ]
  },
  {
   "cell_type": "code",
   "execution_count": 47,
   "id": "a1c4252e",
   "metadata": {},
   "outputs": [
    {
     "name": "stdout",
     "output_type": "stream",
     "text": [
      "Number of Courses: 1\n",
      "Number of Students: 12\n",
      "Average GPA: 2.075\n",
      "Number of Grades: A: 3, C: 2, F: 3\n"
     ]
    },
    {
     "name": "stderr",
     "output_type": "stream",
     "text": [
      "C:\\Users\\Will Bailey\\AppData\\Local\\Temp\\ipykernel_1808\\3879921979.py:5: SettingWithCopyWarning: \n",
      "A value is trying to be set on a copy of a slice from a DataFrame.\n",
      "Try using .loc[row_indexer,col_indexer] = value instead\n",
      "\n",
      "See the caveats in the documentation: https://pandas.pydata.org/pandas-docs/stable/user_guide/indexing.html#returning-a-view-versus-a-copy\n",
      "  df['Numerical Grade'] = df['Grade'].apply(convert_grade)\n",
      "C:\\Users\\Will Bailey\\AppData\\Local\\Temp\\ipykernel_1808\\3879921979.py:5: SettingWithCopyWarning: \n",
      "A value is trying to be set on a copy of a slice from a DataFrame.\n",
      "Try using .loc[row_indexer,col_indexer] = value instead\n",
      "\n",
      "See the caveats in the documentation: https://pandas.pydata.org/pandas-docs/stable/user_guide/indexing.html#returning-a-view-versus-a-copy\n",
      "  df['Numerical Grade'] = df['Grade'].apply(convert_grade)\n"
     ]
    }
   ],
   "source": [
    "keys = list(group_files.keys())\n",
    "group_files = (create_dict(\"C:/Users/Will Bailey/Desktop/RWUCOMSC/comsc330/TESTRUN.RUN\"))\n"
   ]
  },
  {
   "cell_type": "code",
   "execution_count": 48,
   "id": "322dfe0e",
   "metadata": {},
   "outputs": [],
   "source": [
    "keys = list(group_files.keys())\n"
   ]
  },
  {
   "cell_type": "markdown",
   "id": "8b481b4c",
   "metadata": {},
   "source": [
    "# Get Elements of the Z-Score"
   ]
  },
  {
   "cell_type": "code",
   "execution_count": 49,
   "id": "721e4368",
   "metadata": {},
   "outputs": [],
   "source": [
    "def getSECGPAdf(df):   \n",
    "    df[['Last Name', 'First Name', 'Student Id', 'Grade']] = df['Data'].str.split(',', expand=True)\n",
    "    df['Grade'] = df['Grade'].str.strip('\"')\n",
    "    df = df[~df[\"Grade\"].str.contains(\"I|W\")]\n",
    "    df['Numerical Grade'] = df['Grade'].apply(convert_grade)\n",
    "    avg_numerical_grade = df['Numerical Grade'].mean()\n",
    "    return avg_numerical_grade"
   ]
  },
  {
   "cell_type": "code",
   "execution_count": 50,
   "id": "6d223e26",
   "metadata": {},
   "outputs": [],
   "source": [
    "def get_GRP_GPA(keys):    \n",
    "    gpa_list = []\n",
    "\n",
    "    with open(keys, \"r\") as f:\n",
    "        sections = f.readlines()\n",
    "    sections.pop(0)\n",
    "\n",
    "    for y in range(len(sections)):\n",
    "        sections[y] = sections[y].strip()\n",
    "        with open(sections[y], \"r\") as f:\n",
    "            lines = f.readlines()\n",
    "        lines.pop(0)\n",
    "        for j in range(len(lines)):\n",
    "            lines[j] = lines[j].strip()\n",
    "        df = pd.DataFrame(lines, columns=['Data'])\n",
    "        gpa = (getSECGPAdf(df))\n",
    "        gpa_list.append(gpa)\n",
    "        average = sum(gpa_list) / len(gpa_list)\n",
    "    return average"
   ]
  },
  {
   "cell_type": "code",
   "execution_count": 51,
   "id": "db9d4531",
   "metadata": {},
   "outputs": [],
   "source": [
    "def getSTDEV(keys): \n",
    "    line = []\n",
    "    linef = []\n",
    "    with open(keys, \"r\") as f:\n",
    "        sections = f.readlines()\n",
    "        sections.pop(0)\n",
    "\n",
    "        for x in range(len(sections)):\n",
    "            sections[x] = sections[x].strip()\n",
    "            with open(sections[x], \"r\") as f:\n",
    "                lines = f.readlines()\n",
    "                lines.pop(0)\n",
    "                linef.extend(lines)\n",
    "    for x in range (len(linef)):\n",
    "        linef[x] = linef[x].strip()\n",
    "\n",
    "\n",
    "    df = pd.DataFrame(linef)\n",
    "    df.drop(0)\n",
    "    df.columns = ['Data']\n",
    "    df = df.drop(0)\n",
    "    df[['Last Name', 'First Name', 'Student Id', 'Grade']] = df['Data'].str.split(',', expand=True)\n",
    "    df['Grade'] = df['Grade'].str.strip('\"')\n",
    "    df = df.drop('Data', axis=1)\n",
    "    df['GPA'] = df['Grade'].apply(convert_grade)\n",
    "    df = df[~df[\"Grade\"].str.contains(\"I|W|P|NP\")]\n",
    "\n",
    "    grades = df['GPA'].tolist()\n",
    "    std_dev = statistics.stdev(grades)\n",
    "    \n",
    "    return std_dev"
   ]
  },
  {
   "cell_type": "code",
   "execution_count": 52,
   "id": "1faa87d8",
   "metadata": {},
   "outputs": [],
   "source": [
    "def get_sec_gpa(keys):   \n",
    "    with open(keys, \"r\") as f:\n",
    "        sections = f.readlines()\n",
    "        sections.pop(0)\n",
    "    for x in range(len(sections)):\n",
    "            sections[x] = sections[x].strip()\n",
    "    with open(sections[0], \"r\") as f:\n",
    "        lines = f.readlines()\n",
    "        lines.pop(0)\n",
    "    for j in range(len(lines)):\n",
    "        lines[j] = lines[j].strip()\n",
    "    df = pd.DataFrame(lines)\n",
    "    df.columns = ['Data']\n",
    "    df[['Last Name', 'First Name', 'Student Id', 'Grade']] = df['Data'].str.split(',', expand=True)\n",
    "    df['Grade'] = df['Grade'].str.strip('\"')\n",
    "    df = df[~df[\"Grade\"].str.contains(\"I|W|P|NP\")]\n",
    "    df['Numerical Grade'] = df['Grade'].apply(convert_grade)\n",
    "    avg_numerical_grade = df['Numerical Grade'].mean()\n",
    "    return avg_numerical_grade"
   ]
  },
  {
   "cell_type": "code",
   "execution_count": 53,
   "id": "9c82bef7",
   "metadata": {},
   "outputs": [
    {
     "name": "stdout",
     "output_type": "stream",
     "text": [
      "0.04322928132781747\n"
     ]
    },
    {
     "name": "stderr",
     "output_type": "stream",
     "text": [
      "C:\\Users\\Will Bailey\\AppData\\Local\\Temp\\ipykernel_1808\\3879921979.py:5: SettingWithCopyWarning: \n",
      "A value is trying to be set on a copy of a slice from a DataFrame.\n",
      "Try using .loc[row_indexer,col_indexer] = value instead\n",
      "\n",
      "See the caveats in the documentation: https://pandas.pydata.org/pandas-docs/stable/user_guide/indexing.html#returning-a-view-versus-a-copy\n",
      "  df['Numerical Grade'] = df['Grade'].apply(convert_grade)\n"
     ]
    }
   ],
   "source": [
    "def get_z_score(keys):\n",
    "    stdev = getSTDEV(keys)\n",
    "    grp_gpa = get_GRP_GPA(keys)\n",
    "    sec_gpa = get_sec_gpa(keys)\n",
    "    result = (sec_gpa - grp_gpa)/stdev\n",
    "    return result\n",
    "print(get_z_score(keys[0]))    "
   ]
  },
  {
   "cell_type": "code",
   "execution_count": null,
   "id": "31b708e4",
   "metadata": {},
   "outputs": [],
   "source": []
  },
  {
   "cell_type": "code",
   "execution_count": null,
   "id": "bc6155d7",
   "metadata": {},
   "outputs": [],
   "source": []
  },
  {
   "cell_type": "code",
   "execution_count": null,
   "id": "e38d42dc",
   "metadata": {},
   "outputs": [],
   "source": []
  }
 ],
 "metadata": {
  "kernelspec": {
   "display_name": "Python 3 (ipykernel)",
   "language": "python",
   "name": "python3"
  },
  "language_info": {
   "codemirror_mode": {
    "name": "ipython",
    "version": 3
   },
   "file_extension": ".py",
   "mimetype": "text/x-python",
   "name": "python",
   "nbconvert_exporter": "python",
   "pygments_lexer": "ipython3",
   "version": "3.9.12"
  }
 },
 "nbformat": 4,
 "nbformat_minor": 5
}
