{
 "cells": [
  {
   "cell_type": "code",
   "execution_count": 1,
   "id": "2ba5eae0",
   "metadata": {},
   "outputs": [
    {
     "name": "stdout",
     "output_type": "stream",
     "text": [
      "Requirement already satisfied: pandas in c:\\users\\will bailey\\anaconda3\\lib\\site-packages (1.4.2)\n",
      "Requirement already satisfied: pytz>=2020.1 in c:\\users\\will bailey\\anaconda3\\lib\\site-packages (from pandas) (2021.3)\n",
      "Requirement already satisfied: python-dateutil>=2.8.1 in c:\\users\\will bailey\\anaconda3\\lib\\site-packages (from pandas) (2.8.2)\n",
      "Requirement already satisfied: numpy>=1.18.5 in c:\\users\\will bailey\\anaconda3\\lib\\site-packages (from pandas) (1.21.5)\n",
      "Requirement already satisfied: six>=1.5 in c:\\users\\will bailey\\anaconda3\\lib\\site-packages (from python-dateutil>=2.8.1->pandas) (1.16.0)\n"
     ]
    }
   ],
   "source": [
    "!pip install pandas\n",
    "import pandas as pd\n"
   ]
  },
  {
   "cell_type": "code",
   "execution_count": 2,
   "id": "64c7b0ea",
   "metadata": {},
   "outputs": [
    {
     "data": {
      "text/html": [
       "<div>\n",
       "<style scoped>\n",
       "    .dataframe tbody tr th:only-of-type {\n",
       "        vertical-align: middle;\n",
       "    }\n",
       "\n",
       "    .dataframe tbody tr th {\n",
       "        vertical-align: top;\n",
       "    }\n",
       "\n",
       "    .dataframe thead th {\n",
       "        text-align: right;\n",
       "    }\n",
       "</style>\n",
       "<table border=\"1\" class=\"dataframe\">\n",
       "  <thead>\n",
       "    <tr style=\"text-align: right;\">\n",
       "      <th></th>\n",
       "      <th>Data</th>\n",
       "    </tr>\n",
       "  </thead>\n",
       "  <tbody>\n",
       "    <tr>\n",
       "      <th>0</th>\n",
       "      <td>COMSC110S20  3.0</td>\n",
       "    </tr>\n",
       "    <tr>\n",
       "      <th>1</th>\n",
       "      <td>Pfssb, Hcfw,\"6713436\",\"C+\"</td>\n",
       "    </tr>\n",
       "    <tr>\n",
       "      <th>2</th>\n",
       "      <td>Pfckb, Owrob,\"6758502\",\"C\"</td>\n",
       "    </tr>\n",
       "    <tr>\n",
       "      <th>3</th>\n",
       "      <td>Qczs, Robwsz,\"6704310\",\"C\"</td>\n",
       "    </tr>\n",
       "    <tr>\n",
       "      <th>4</th>\n",
       "      <td>Qfin, Xsggwqo,\"6724981\",\"C+\"</td>\n",
       "    </tr>\n",
       "    <tr>\n",
       "      <th>5</th>\n",
       "      <td>Rspzcwg, Qoggobrfo,\"6719465\",\"I\"</td>\n",
       "    </tr>\n",
       "    <tr>\n",
       "      <th>6</th>\n",
       "      <td>Vwzz, Psbxoawb,\"6727795\",\"W\"</td>\n",
       "    </tr>\n",
       "  </tbody>\n",
       "</table>\n",
       "</div>"
      ],
      "text/plain": [
       "                               Data\n",
       "0                  COMSC110S20  3.0\n",
       "1        Pfssb, Hcfw,\"6713436\",\"C+\"\n",
       "2        Pfckb, Owrob,\"6758502\",\"C\"\n",
       "3        Qczs, Robwsz,\"6704310\",\"C\"\n",
       "4      Qfin, Xsggwqo,\"6724981\",\"C+\"\n",
       "5  Rspzcwg, Qoggobrfo,\"6719465\",\"I\"\n",
       "6      Vwzz, Psbxoawb,\"6727795\",\"W\""
      ]
     },
     "execution_count": 2,
     "metadata": {},
     "output_type": "execute_result"
    }
   ],
   "source": [
    "df = pd.read_csv('C:/Users/Will Bailey/Desktop/RWUCOMSC/comsc330/support/COMSC110S20.sec', sep='|', header=None)\n",
    "df.drop(0)\n",
    "df.columns = ['Data']\n",
    "df\n"
   ]
  },
  {
   "cell_type": "code",
   "execution_count": null,
   "id": "a549ba0a",
   "metadata": {
    "scrolled": true
   },
   "outputs": [],
   "source": []
  },
  {
   "cell_type": "code",
   "execution_count": null,
   "id": "e8bd1de9",
   "metadata": {},
   "outputs": [],
   "source": [
    "\n"
   ]
  },
  {
   "cell_type": "code",
   "execution_count": 3,
   "id": "4d266d6d",
   "metadata": {},
   "outputs": [
    {
     "data": {
      "text/html": [
       "<div>\n",
       "<style scoped>\n",
       "    .dataframe tbody tr th:only-of-type {\n",
       "        vertical-align: middle;\n",
       "    }\n",
       "\n",
       "    .dataframe tbody tr th {\n",
       "        vertical-align: top;\n",
       "    }\n",
       "\n",
       "    .dataframe thead th {\n",
       "        text-align: right;\n",
       "    }\n",
       "</style>\n",
       "<table border=\"1\" class=\"dataframe\">\n",
       "  <thead>\n",
       "    <tr style=\"text-align: right;\">\n",
       "      <th></th>\n",
       "      <th>Data</th>\n",
       "      <th>Last Name</th>\n",
       "      <th>First Name</th>\n",
       "      <th>Student Id</th>\n",
       "      <th>Grade</th>\n",
       "    </tr>\n",
       "  </thead>\n",
       "  <tbody>\n",
       "    <tr>\n",
       "      <th>0</th>\n",
       "      <td>COMSC110S20  3.0</td>\n",
       "      <td>COMSC110S20  3.0</td>\n",
       "      <td>None</td>\n",
       "      <td>None</td>\n",
       "      <td>None</td>\n",
       "    </tr>\n",
       "    <tr>\n",
       "      <th>1</th>\n",
       "      <td>Pfssb, Hcfw,\"6713436\",\"C+\"</td>\n",
       "      <td>Pfssb</td>\n",
       "      <td>Hcfw</td>\n",
       "      <td>\"6713436\"</td>\n",
       "      <td>\"C+\"</td>\n",
       "    </tr>\n",
       "    <tr>\n",
       "      <th>2</th>\n",
       "      <td>Pfckb, Owrob,\"6758502\",\"C\"</td>\n",
       "      <td>Pfckb</td>\n",
       "      <td>Owrob</td>\n",
       "      <td>\"6758502\"</td>\n",
       "      <td>\"C\"</td>\n",
       "    </tr>\n",
       "    <tr>\n",
       "      <th>3</th>\n",
       "      <td>Qczs, Robwsz,\"6704310\",\"C\"</td>\n",
       "      <td>Qczs</td>\n",
       "      <td>Robwsz</td>\n",
       "      <td>\"6704310\"</td>\n",
       "      <td>\"C\"</td>\n",
       "    </tr>\n",
       "    <tr>\n",
       "      <th>4</th>\n",
       "      <td>Qfin, Xsggwqo,\"6724981\",\"C+\"</td>\n",
       "      <td>Qfin</td>\n",
       "      <td>Xsggwqo</td>\n",
       "      <td>\"6724981\"</td>\n",
       "      <td>\"C+\"</td>\n",
       "    </tr>\n",
       "    <tr>\n",
       "      <th>5</th>\n",
       "      <td>Rspzcwg, Qoggobrfo,\"6719465\",\"I\"</td>\n",
       "      <td>Rspzcwg</td>\n",
       "      <td>Qoggobrfo</td>\n",
       "      <td>\"6719465\"</td>\n",
       "      <td>\"I\"</td>\n",
       "    </tr>\n",
       "    <tr>\n",
       "      <th>6</th>\n",
       "      <td>Vwzz, Psbxoawb,\"6727795\",\"W\"</td>\n",
       "      <td>Vwzz</td>\n",
       "      <td>Psbxoawb</td>\n",
       "      <td>\"6727795\"</td>\n",
       "      <td>\"W\"</td>\n",
       "    </tr>\n",
       "  </tbody>\n",
       "</table>\n",
       "</div>"
      ],
      "text/plain": [
       "                               Data         Last Name  First Name Student Id  \\\n",
       "0                  COMSC110S20  3.0  COMSC110S20  3.0        None       None   \n",
       "1        Pfssb, Hcfw,\"6713436\",\"C+\"             Pfssb        Hcfw  \"6713436\"   \n",
       "2        Pfckb, Owrob,\"6758502\",\"C\"             Pfckb       Owrob  \"6758502\"   \n",
       "3        Qczs, Robwsz,\"6704310\",\"C\"              Qczs      Robwsz  \"6704310\"   \n",
       "4      Qfin, Xsggwqo,\"6724981\",\"C+\"              Qfin     Xsggwqo  \"6724981\"   \n",
       "5  Rspzcwg, Qoggobrfo,\"6719465\",\"I\"           Rspzcwg   Qoggobrfo  \"6719465\"   \n",
       "6      Vwzz, Psbxoawb,\"6727795\",\"W\"              Vwzz    Psbxoawb  \"6727795\"   \n",
       "\n",
       "  Grade  \n",
       "0  None  \n",
       "1  \"C+\"  \n",
       "2   \"C\"  \n",
       "3   \"C\"  \n",
       "4  \"C+\"  \n",
       "5   \"I\"  \n",
       "6   \"W\"  "
      ]
     },
     "execution_count": 3,
     "metadata": {},
     "output_type": "execute_result"
    }
   ],
   "source": [
    "df[['Last Name', 'First Name', 'Student Id', 'Grade']] = df['Data'].str.split(',', expand=True)\n",
    "df"
   ]
  },
  {
   "cell_type": "code",
   "execution_count": 5,
   "id": "db5fd06c",
   "metadata": {},
   "outputs": [
    {
     "data": {
      "text/html": [
       "<div>\n",
       "<style scoped>\n",
       "    .dataframe tbody tr th:only-of-type {\n",
       "        vertical-align: middle;\n",
       "    }\n",
       "\n",
       "    .dataframe tbody tr th {\n",
       "        vertical-align: top;\n",
       "    }\n",
       "\n",
       "    .dataframe thead th {\n",
       "        text-align: right;\n",
       "    }\n",
       "</style>\n",
       "<table border=\"1\" class=\"dataframe\">\n",
       "  <thead>\n",
       "    <tr style=\"text-align: right;\">\n",
       "      <th></th>\n",
       "      <th>Last Name</th>\n",
       "      <th>First Name</th>\n",
       "      <th>Student Id</th>\n",
       "      <th>Grade</th>\n",
       "    </tr>\n",
       "  </thead>\n",
       "  <tbody>\n",
       "    <tr>\n",
       "      <th>0</th>\n",
       "      <td>COMSC110S20  3.0</td>\n",
       "      <td>None</td>\n",
       "      <td>None</td>\n",
       "      <td>None</td>\n",
       "    </tr>\n",
       "    <tr>\n",
       "      <th>1</th>\n",
       "      <td>Pfssb</td>\n",
       "      <td>Hcfw</td>\n",
       "      <td>\"6713436\"</td>\n",
       "      <td>\"C+\"</td>\n",
       "    </tr>\n",
       "    <tr>\n",
       "      <th>2</th>\n",
       "      <td>Pfckb</td>\n",
       "      <td>Owrob</td>\n",
       "      <td>\"6758502\"</td>\n",
       "      <td>\"C\"</td>\n",
       "    </tr>\n",
       "    <tr>\n",
       "      <th>3</th>\n",
       "      <td>Qczs</td>\n",
       "      <td>Robwsz</td>\n",
       "      <td>\"6704310\"</td>\n",
       "      <td>\"C\"</td>\n",
       "    </tr>\n",
       "    <tr>\n",
       "      <th>4</th>\n",
       "      <td>Qfin</td>\n",
       "      <td>Xsggwqo</td>\n",
       "      <td>\"6724981\"</td>\n",
       "      <td>\"C+\"</td>\n",
       "    </tr>\n",
       "    <tr>\n",
       "      <th>5</th>\n",
       "      <td>Rspzcwg</td>\n",
       "      <td>Qoggobrfo</td>\n",
       "      <td>\"6719465\"</td>\n",
       "      <td>\"I\"</td>\n",
       "    </tr>\n",
       "    <tr>\n",
       "      <th>6</th>\n",
       "      <td>Vwzz</td>\n",
       "      <td>Psbxoawb</td>\n",
       "      <td>\"6727795\"</td>\n",
       "      <td>\"W\"</td>\n",
       "    </tr>\n",
       "  </tbody>\n",
       "</table>\n",
       "</div>"
      ],
      "text/plain": [
       "          Last Name  First Name Student Id Grade\n",
       "0  COMSC110S20  3.0        None       None  None\n",
       "1             Pfssb        Hcfw  \"6713436\"  \"C+\"\n",
       "2             Pfckb       Owrob  \"6758502\"   \"C\"\n",
       "3              Qczs      Robwsz  \"6704310\"   \"C\"\n",
       "4              Qfin     Xsggwqo  \"6724981\"  \"C+\"\n",
       "5           Rspzcwg   Qoggobrfo  \"6719465\"   \"I\"\n",
       "6              Vwzz    Psbxoawb  \"6727795\"   \"W\""
      ]
     },
     "execution_count": 5,
     "metadata": {},
     "output_type": "execute_result"
    }
   ],
   "source": [
    "df = df.drop('Data', axis = 1)\n",
    "df"
   ]
  },
  {
   "cell_type": "code",
   "execution_count": null,
   "id": "c1b25154",
   "metadata": {},
   "outputs": [],
   "source": [
    "def get_GPA(data):\n",
    "    \n",
    "    return grade"
   ]
  },
  {
   "cell_type": "code",
   "execution_count": 10,
   "id": "347d1b7c",
   "metadata": {},
   "outputs": [
    {
     "ename": "SyntaxError",
     "evalue": "invalid syntax (972229258.py, line 1)",
     "output_type": "error",
     "traceback": [
      "\u001b[1;36m  Input \u001b[1;32mIn [10]\u001b[1;36m\u001b[0m\n\u001b[1;33m    def grade_to_gpa = {\u001b[0m\n\u001b[1;37m                     ^\u001b[0m\n\u001b[1;31mSyntaxError\u001b[0m\u001b[1;31m:\u001b[0m invalid syntax\n"
     ]
    }
   ],
   "source": [
    "for num in df['Grade']:\n",
    "    "
   ]
  },
  {
   "cell_type": "code",
   "execution_count": 11,
   "id": "c4ce07d0",
   "metadata": {},
   "outputs": [
    {
     "name": "stdout",
     "output_type": "stream",
     "text": [
      "30.0\n"
     ]
    }
   ],
   "source": [
    "data = {'numbers': [10, 20, 30, 40, 50]}\n",
    "df = pd.DataFrame(data)\n",
    "\n",
    "# iterate through the 'numbers' column and get the mean\n",
    "sum = 0\n",
    "count = 0\n",
    "for num in df['numbers']:\n",
    "    sum += num\n",
    "    count += 1\n",
    "mean = sum / count\n",
    "\n",
    "# print the mean\n",
    "print(mean)"
   ]
  },
  {
   "cell_type": "code",
   "execution_count": null,
   "id": "6a703a5e",
   "metadata": {},
   "outputs": [],
   "source": []
  }
 ],
 "metadata": {
  "kernelspec": {
   "display_name": "Python 3 (ipykernel)",
   "language": "python",
   "name": "python3"
  },
  "language_info": {
   "codemirror_mode": {
    "name": "ipython",
    "version": 3
   },
   "file_extension": ".py",
   "mimetype": "text/x-python",
   "name": "python",
   "nbconvert_exporter": "python",
   "pygments_lexer": "ipython3",
   "version": "3.9.12"
  }
 },
 "nbformat": 4,
 "nbformat_minor": 5
}
